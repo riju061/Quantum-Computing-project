{
 "cells": [
  {
   "cell_type": "code",
   "execution_count": 5,
   "id": "2f3c262b",
   "metadata": {},
   "outputs": [
    {
     "name": "stdout",
     "output_type": "stream",
     "text": [
      "Collecting qiskit\n",
      "  Downloading qiskit-0.41.0.tar.gz (14 kB)\n",
      "  Preparing metadata (setup.py): started\n",
      "  Preparing metadata (setup.py): finished with status 'done'\n",
      "Collecting qiskit-terra==0.23.1\n",
      "  Downloading qiskit_terra-0.23.1-cp310-cp310-win_amd64.whl (4.6 MB)\n",
      "     ---------------------------------------- 4.6/4.6 MB 17.2 kB/s eta 0:00:00\n",
      "Collecting qiskit-aer==0.11.2\n",
      "  Using cached qiskit_aer-0.11.2-cp310-cp310-win_amd64.whl (9.6 MB)\n",
      "Collecting qiskit-ibmq-provider==0.20.0\n",
      "  Using cached qiskit_ibmq_provider-0.20.0-py3-none-any.whl (241 kB)\n",
      "Requirement already satisfied: numpy>=1.16.3 in c:\\programdata\\anaconda3\\envs\\tf\\lib\\site-packages (from qiskit-aer==0.11.2->qiskit) (1.23.5)\n",
      "Requirement already satisfied: scipy>=1.0 in c:\\programdata\\anaconda3\\envs\\tf\\lib\\site-packages (from qiskit-aer==0.11.2->qiskit) (1.10.0)\n",
      "Collecting websockets>=10.0\n",
      "  Using cached websockets-10.4-cp310-cp310-win_amd64.whl (101 kB)\n",
      "Requirement already satisfied: requests>=2.19 in c:\\programdata\\anaconda3\\envs\\tf\\lib\\site-packages (from qiskit-ibmq-provider==0.20.0->qiskit) (2.28.1)\n",
      "Requirement already satisfied: urllib3>=1.21.1 in c:\\programdata\\anaconda3\\envs\\tf\\lib\\site-packages (from qiskit-ibmq-provider==0.20.0->qiskit) (1.26.11)\n",
      "Requirement already satisfied: python-dateutil>=2.8.0 in c:\\programdata\\anaconda3\\envs\\tf\\lib\\site-packages (from qiskit-ibmq-provider==0.20.0->qiskit) (2.8.2)\n",
      "Collecting requests-ntlm>=1.1.0\n",
      "  Using cached requests_ntlm-1.2.0-py3-none-any.whl (6.0 kB)\n",
      "Requirement already satisfied: websocket-client<=1.3.3 in c:\\programdata\\anaconda3\\envs\\tf\\lib\\site-packages (from qiskit-ibmq-provider==0.20.0->qiskit) (0.58.0)\n",
      "Collecting stevedore>=3.0.0\n",
      "  Using cached stevedore-5.0.0-py3-none-any.whl (49 kB)\n",
      "Requirement already satisfied: sympy>=1.3 in c:\\programdata\\anaconda3\\envs\\tf\\lib\\site-packages (from qiskit-terra==0.23.1->qiskit) (1.11.1)\n",
      "Collecting dill>=0.3\n",
      "  Using cached dill-0.3.6-py3-none-any.whl (110 kB)\n",
      "Requirement already satisfied: rustworkx>=0.12.0 in c:\\programdata\\anaconda3\\envs\\tf\\lib\\site-packages (from qiskit-terra==0.23.1->qiskit) (0.12.1)\n",
      "Requirement already satisfied: ply>=3.10 in c:\\programdata\\anaconda3\\envs\\tf\\lib\\site-packages (from qiskit-terra==0.23.1->qiskit) (3.11)\n",
      "Requirement already satisfied: psutil>=5 in c:\\programdata\\anaconda3\\envs\\tf\\lib\\site-packages (from qiskit-terra==0.23.1->qiskit) (5.9.4)\n",
      "Requirement already satisfied: six>=1.5 in c:\\programdata\\anaconda3\\envs\\tf\\lib\\site-packages (from python-dateutil>=2.8.0->qiskit-ibmq-provider==0.20.0->qiskit) (1.16.0)\n",
      "Requirement already satisfied: certifi>=2017.4.17 in c:\\programdata\\anaconda3\\envs\\tf\\lib\\site-packages (from requests>=2.19->qiskit-ibmq-provider==0.20.0->qiskit) (2022.12.7)\n",
      "Requirement already satisfied: idna<4,>=2.5 in c:\\programdata\\anaconda3\\envs\\tf\\lib\\site-packages (from requests>=2.19->qiskit-ibmq-provider==0.20.0->qiskit) (3.3)\n",
      "Requirement already satisfied: charset-normalizer<3,>=2 in c:\\programdata\\anaconda3\\envs\\tf\\lib\\site-packages (from requests>=2.19->qiskit-ibmq-provider==0.20.0->qiskit) (2.0.4)\n",
      "Collecting pyspnego>=0.1.6\n",
      "  Using cached pyspnego-0.8.0-cp310-cp310-win_amd64.whl (241 kB)\n",
      "Requirement already satisfied: cryptography>=1.3 in c:\\programdata\\anaconda3\\envs\\tf\\lib\\site-packages (from requests-ntlm>=1.1.0->qiskit-ibmq-provider==0.20.0->qiskit) (37.0.1)\n",
      "Collecting pbr!=2.1.0,>=2.0.0\n",
      "  Using cached pbr-5.11.1-py2.py3-none-any.whl (112 kB)\n",
      "Requirement already satisfied: mpmath>=0.19 in c:\\programdata\\anaconda3\\envs\\tf\\lib\\site-packages (from sympy>=1.3->qiskit-terra==0.23.1->qiskit) (1.2.1)\n",
      "Requirement already satisfied: cffi>=1.12 in c:\\programdata\\anaconda3\\envs\\tf\\lib\\site-packages (from cryptography>=1.3->requests-ntlm>=1.1.0->qiskit-ibmq-provider==0.20.0->qiskit) (1.15.1)\n",
      "Requirement already satisfied: pycparser in c:\\programdata\\anaconda3\\envs\\tf\\lib\\site-packages (from cffi>=1.12->cryptography>=1.3->requests-ntlm>=1.1.0->qiskit-ibmq-provider==0.20.0->qiskit) (2.21)\n",
      "Building wheels for collected packages: qiskit\n",
      "  Building wheel for qiskit (setup.py): started\n",
      "  Building wheel for qiskit (setup.py): finished with status 'done'\n",
      "  Created wheel for qiskit: filename=qiskit-0.41.0-py3-none-any.whl size=12827 sha256=0d36949ce1b51698b7c7f087875785f3262930aa55661c69dbf9a1507dc05d01\n",
      "  Stored in directory: c:\\users\\supratim sengupta\\appdata\\local\\pip\\cache\\wheels\\39\\0b\\4e\\0efd59faeb29fb50101efd0fc6a248ca89a419c6ecde850018\n",
      "Successfully built qiskit\n",
      "Installing collected packages: websockets, pbr, dill, stevedore, qiskit-terra, pyspnego, requests-ntlm, qiskit-aer, qiskit-ibmq-provider, qiskit\n"
     ]
    },
    {
     "name": "stderr",
     "output_type": "stream",
     "text": [
      "WARNING: Ignoring invalid distribution -ip (c:\\programdata\\anaconda3\\envs\\tf\\lib\\site-packages)\n",
      "WARNING: Ignoring invalid distribution - (c:\\programdata\\anaconda3\\envs\\tf\\lib\\site-packages)\n",
      "WARNING: Ignoring invalid distribution -ip (c:\\programdata\\anaconda3\\envs\\tf\\lib\\site-packages)\n",
      "WARNING: Ignoring invalid distribution - (c:\\programdata\\anaconda3\\envs\\tf\\lib\\site-packages)\n",
      "WARNING: Ignoring invalid distribution -ip (c:\\programdata\\anaconda3\\envs\\tf\\lib\\site-packages)\n",
      "WARNING: Ignoring invalid distribution - (c:\\programdata\\anaconda3\\envs\\tf\\lib\\site-packages)\n",
      "ERROR: Could not install packages due to an OSError: [WinError 5] Access is denied: 'C:\\\\ProgramData\\\\Anaconda3\\\\envs\\\\tf\\\\Lib\\\\site-packages\\\\qiskit\\\\_accelerate.cp310-win_amd64.pyd'\n",
      "Consider using the `--user` option or check the permissions.\n",
      "\n",
      "WARNING: Ignoring invalid distribution -ip (c:\\programdata\\anaconda3\\envs\\tf\\lib\\site-packages)\n",
      "WARNING: Ignoring invalid distribution - (c:\\programdata\\anaconda3\\envs\\tf\\lib\\site-packages)\n",
      "WARNING: Ignoring invalid distribution -ip (c:\\programdata\\anaconda3\\envs\\tf\\lib\\site-packages)\n",
      "WARNING: Ignoring invalid distribution - (c:\\programdata\\anaconda3\\envs\\tf\\lib\\site-packages)\n",
      "WARNING: Ignoring invalid distribution -ip (c:\\programdata\\anaconda3\\envs\\tf\\lib\\site-packages)\n",
      "WARNING: Ignoring invalid distribution - (c:\\programdata\\anaconda3\\envs\\tf\\lib\\site-packages)\n",
      "\n",
      "[notice] A new release of pip is available: 23.0 -> 23.0.1\n",
      "[notice] To update, run: python.exe -m pip install --upgrade pip\n"
     ]
    }
   ],
   "source": [
    "\n",
    "import numpy as np\n",
    "from qiskit import *\n",
    "%matplotlib inline\n",
    "from math import pi, sqrt\n",
    "import random\n",
    "from qiskit.visualization import plot_histogram"
   ]
  },
  {
   "cell_type": "code",
   "execution_count": 4,
   "id": "2bf989fc",
   "metadata": {},
   "outputs": [
    {
     "name": "stdout",
     "output_type": "stream",
     "text": [
      "Collecting qiskit\n",
      "  Using cached qiskit-0.41.0.tar.gz (14 kB)\n",
      "  Preparing metadata (setup.py): started\n",
      "  Preparing metadata (setup.py): finished with status 'done'\n",
      "Collecting qiskit-terra==0.23.1\n",
      "  Downloading qiskit_terra-0.23.1-cp310-cp310-win_amd64.whl (4.6 MB)\n",
      "     ---------------------------------------- 4.6/4.6 MB 151.9 kB/s eta 0:00:00\n",
      "Collecting qiskit-aer==0.11.2\n",
      "  Downloading qiskit_aer-0.11.2-cp310-cp310-win_amd64.whl (9.6 MB)\n",
      "     ---------------------------------------- 9.6/9.6 MB 2.1 MB/s eta 0:00:00\n",
      "Collecting qiskit-ibmq-provider==0.20.0\n",
      "  Downloading qiskit_ibmq_provider-0.20.0-py3-none-any.whl (241 kB)\n",
      "     -------------------------------------- 241.3/241.3 kB 3.7 MB/s eta 0:00:00\n",
      "Requirement already satisfied: scipy>=1.0 in c:\\programdata\\anaconda3\\envs\\tf\\lib\\site-packages (from qiskit-aer==0.11.2->qiskit) (1.10.0)\n",
      "Requirement already satisfied: numpy>=1.16.3 in c:\\programdata\\anaconda3\\envs\\tf\\lib\\site-packages (from qiskit-aer==0.11.2->qiskit) (1.23.5)\n",
      "Requirement already satisfied: python-dateutil>=2.8.0 in c:\\programdata\\anaconda3\\envs\\tf\\lib\\site-packages (from qiskit-ibmq-provider==0.20.0->qiskit) (2.8.2)\n",
      "Collecting websockets>=10.0\n",
      "  Downloading websockets-10.4-cp310-cp310-win_amd64.whl (101 kB)\n",
      "     ------------------------------------ 101.4/101.4 kB 530.2 kB/s eta 0:00:00\n",
      "Requirement already satisfied: urllib3>=1.21.1 in c:\\programdata\\anaconda3\\envs\\tf\\lib\\site-packages (from qiskit-ibmq-provider==0.20.0->qiskit) (1.26.11)\n",
      "Requirement already satisfied: websocket-client<=1.3.3 in c:\\programdata\\anaconda3\\envs\\tf\\lib\\site-packages (from qiskit-ibmq-provider==0.20.0->qiskit) (0.58.0)\n",
      "Requirement already satisfied: requests>=2.19 in c:\\programdata\\anaconda3\\envs\\tf\\lib\\site-packages (from qiskit-ibmq-provider==0.20.0->qiskit) (2.28.1)\n",
      "Collecting requests-ntlm>=1.1.0\n",
      "  Downloading requests_ntlm-1.2.0-py3-none-any.whl (6.0 kB)\n",
      "Collecting dill>=0.3\n",
      "  Downloading dill-0.3.6-py3-none-any.whl (110 kB)\n",
      "     -------------------------------------- 110.5/110.5 kB 1.3 MB/s eta 0:00:00\n",
      "Collecting stevedore>=3.0.0\n",
      "  Downloading stevedore-5.0.0-py3-none-any.whl (49 kB)\n",
      "     ---------------------------------------- 49.6/49.6 kB 1.2 MB/s eta 0:00:00\n",
      "Requirement already satisfied: rustworkx>=0.12.0 in c:\\programdata\\anaconda3\\envs\\tf\\lib\\site-packages (from qiskit-terra==0.23.1->qiskit) (0.12.1)\n",
      "Requirement already satisfied: psutil>=5 in c:\\programdata\\anaconda3\\envs\\tf\\lib\\site-packages (from qiskit-terra==0.23.1->qiskit) (5.9.4)\n",
      "Requirement already satisfied: ply>=3.10 in c:\\programdata\\anaconda3\\envs\\tf\\lib\\site-packages (from qiskit-terra==0.23.1->qiskit) (3.11)\n",
      "Requirement already satisfied: sympy>=1.3 in c:\\programdata\\anaconda3\\envs\\tf\\lib\\site-packages (from qiskit-terra==0.23.1->qiskit) (1.11.1)\n",
      "Requirement already satisfied: six>=1.5 in c:\\programdata\\anaconda3\\envs\\tf\\lib\\site-packages (from python-dateutil>=2.8.0->qiskit-ibmq-provider==0.20.0->qiskit) (1.16.0)\n",
      "Requirement already satisfied: charset-normalizer<3,>=2 in c:\\programdata\\anaconda3\\envs\\tf\\lib\\site-packages (from requests>=2.19->qiskit-ibmq-provider==0.20.0->qiskit) (2.0.4)\n",
      "Requirement already satisfied: idna<4,>=2.5 in c:\\programdata\\anaconda3\\envs\\tf\\lib\\site-packages (from requests>=2.19->qiskit-ibmq-provider==0.20.0->qiskit) (3.3)\n",
      "Requirement already satisfied: certifi>=2017.4.17 in c:\\programdata\\anaconda3\\envs\\tf\\lib\\site-packages (from requests>=2.19->qiskit-ibmq-provider==0.20.0->qiskit) (2022.12.7)\n",
      "Collecting pyspnego>=0.1.6\n",
      "  Downloading pyspnego-0.8.0-cp310-cp310-win_amd64.whl (241 kB)\n",
      "     ------------------------------------ 241.4/241.4 kB 869.0 kB/s eta 0:00:00\n",
      "Requirement already satisfied: cryptography>=1.3 in c:\\programdata\\anaconda3\\envs\\tf\\lib\\site-packages (from requests-ntlm>=1.1.0->qiskit-ibmq-provider==0.20.0->qiskit) (37.0.1)\n",
      "Collecting pbr!=2.1.0,>=2.0.0\n",
      "  Downloading pbr-5.11.1-py2.py3-none-any.whl (112 kB)\n",
      "     -------------------------------------- 112.7/112.7 kB 1.3 MB/s eta 0:00:00\n",
      "Requirement already satisfied: mpmath>=0.19 in c:\\programdata\\anaconda3\\envs\\tf\\lib\\site-packages (from sympy>=1.3->qiskit-terra==0.23.1->qiskit) (1.2.1)\n",
      "Requirement already satisfied: cffi>=1.12 in c:\\programdata\\anaconda3\\envs\\tf\\lib\\site-packages (from cryptography>=1.3->requests-ntlm>=1.1.0->qiskit-ibmq-provider==0.20.0->qiskit) (1.15.1)\n",
      "Requirement already satisfied: pycparser in c:\\programdata\\anaconda3\\envs\\tf\\lib\\site-packages (from cffi>=1.12->cryptography>=1.3->requests-ntlm>=1.1.0->qiskit-ibmq-provider==0.20.0->qiskit) (2.21)\n",
      "Building wheels for collected packages: qiskit\n",
      "  Building wheel for qiskit (setup.py): started\n",
      "  Building wheel for qiskit (setup.py): finished with status 'done'\n",
      "  Created wheel for qiskit: filename=qiskit-0.41.0-py3-none-any.whl size=12827 sha256=2fbde25638867638693aef92e4b4d92b1c404a28e1120d7815eb8ce23bd7a3bf\n",
      "  Stored in directory: c:\\users\\supratim sengupta\\appdata\\local\\pip\\cache\\wheels\\39\\0b\\4e\\0efd59faeb29fb50101efd0fc6a248ca89a419c6ecde850018\n",
      "Successfully built qiskit\n",
      "Installing collected packages: websockets, pbr, dill, stevedore, qiskit-terra, pyspnego, requests-ntlm, qiskit-aer, qiskit-ibmq-provider, qiskit\n",
      "Successfully installed dill-0.3.6 pbr-5.11.1 pyspnego-0.8.0 qiskit-0.41.0 qiskit-aer-0.11.2 qiskit-ibmq-provider-0.20.0 qiskit-terra-0.23.1 requests-ntlm-1.2.0 stevedore-5.0.0 websockets-10.4\n"
     ]
    },
    {
     "name": "stderr",
     "output_type": "stream",
     "text": [
      "WARNING: Ignoring invalid distribution -ip (c:\\programdata\\anaconda3\\envs\\tf\\lib\\site-packages)\n",
      "WARNING: Ignoring invalid distribution - (c:\\programdata\\anaconda3\\envs\\tf\\lib\\site-packages)\n",
      "WARNING: Ignoring invalid distribution -ip (c:\\programdata\\anaconda3\\envs\\tf\\lib\\site-packages)\n",
      "WARNING: Ignoring invalid distribution - (c:\\programdata\\anaconda3\\envs\\tf\\lib\\site-packages)\n",
      "WARNING: Ignoring invalid distribution -ip (c:\\programdata\\anaconda3\\envs\\tf\\lib\\site-packages)\n",
      "WARNING: Ignoring invalid distribution - (c:\\programdata\\anaconda3\\envs\\tf\\lib\\site-packages)\n",
      "WARNING: Ignoring invalid distribution -ip (c:\\programdata\\anaconda3\\envs\\tf\\lib\\site-packages)\n",
      "WARNING: Ignoring invalid distribution - (c:\\programdata\\anaconda3\\envs\\tf\\lib\\site-packages)\n",
      "WARNING: Ignoring invalid distribution -ip (c:\\programdata\\anaconda3\\envs\\tf\\lib\\site-packages)\n",
      "WARNING: Ignoring invalid distribution - (c:\\programdata\\anaconda3\\envs\\tf\\lib\\site-packages)\n",
      "WARNING: Ignoring invalid distribution -ip (c:\\programdata\\anaconda3\\envs\\tf\\lib\\site-packages)\n",
      "WARNING: Ignoring invalid distribution - (c:\\programdata\\anaconda3\\envs\\tf\\lib\\site-packages)\n",
      "WARNING: Ignoring invalid distribution -ip (c:\\programdata\\anaconda3\\envs\\tf\\lib\\site-packages)\n",
      "WARNING: Ignoring invalid distribution - (c:\\programdata\\anaconda3\\envs\\tf\\lib\\site-packages)\n",
      "WARNING: Ignoring invalid distribution -ip (c:\\programdata\\anaconda3\\envs\\tf\\lib\\site-packages)\n",
      "WARNING: Ignoring invalid distribution - (c:\\programdata\\anaconda3\\envs\\tf\\lib\\site-packages)\n",
      "WARNING: Ignoring invalid distribution -ip (c:\\programdata\\anaconda3\\envs\\tf\\lib\\site-packages)\n",
      "WARNING: Ignoring invalid distribution - (c:\\programdata\\anaconda3\\envs\\tf\\lib\\site-packages)\n",
      "WARNING: Ignoring invalid distribution -ip (c:\\programdata\\anaconda3\\envs\\tf\\lib\\site-packages)\n",
      "WARNING: Ignoring invalid distribution - (c:\\programdata\\anaconda3\\envs\\tf\\lib\\site-packages)\n",
      "WARNING: Ignoring invalid distribution -ip (c:\\programdata\\anaconda3\\envs\\tf\\lib\\site-packages)\n",
      "WARNING: Ignoring invalid distribution - (c:\\programdata\\anaconda3\\envs\\tf\\lib\\site-packages)\n",
      "WARNING: Ignoring invalid distribution -ip (c:\\programdata\\anaconda3\\envs\\tf\\lib\\site-packages)\n",
      "WARNING: Ignoring invalid distribution - (c:\\programdata\\anaconda3\\envs\\tf\\lib\\site-packages)\n",
      "WARNING: Ignoring invalid distribution -ip (c:\\programdata\\anaconda3\\envs\\tf\\lib\\site-packages)\n",
      "WARNING: Ignoring invalid distribution - (c:\\programdata\\anaconda3\\envs\\tf\\lib\\site-packages)\n",
      "WARNING: Ignoring invalid distribution -ip (c:\\programdata\\anaconda3\\envs\\tf\\lib\\site-packages)\n",
      "WARNING: Ignoring invalid distribution - (c:\\programdata\\anaconda3\\envs\\tf\\lib\\site-packages)\n",
      "WARNING: Ignoring invalid distribution -ip (c:\\programdata\\anaconda3\\envs\\tf\\lib\\site-packages)\n",
      "WARNING: Ignoring invalid distribution - (c:\\programdata\\anaconda3\\envs\\tf\\lib\\site-packages)\n",
      "WARNING: Ignoring invalid distribution -ip (c:\\programdata\\anaconda3\\envs\\tf\\lib\\site-packages)\n",
      "WARNING: Ignoring invalid distribution - (c:\\programdata\\anaconda3\\envs\\tf\\lib\\site-packages)\n",
      "\n",
      "[notice] A new release of pip is available: 23.0 -> 23.0.1\n",
      "[notice] To update, run: python.exe -m pip install --upgrade pip\n"
     ]
    }
   ],
   "source": [
    "!pip install qiskit\n"
   ]
  },
  {
   "cell_type": "code",
   "execution_count": 8,
   "id": "8846a002",
   "metadata": {},
   "outputs": [],
   "source": [
    "import numpy as np\n",
    "import torch\n",
    "from torch.nn.functional import relu\n",
    "\n",
    "from sklearn.svm import SVC\n",
    "from sklearn.datasets import load_iris\n",
    "from sklearn.preprocessing import StandardScaler\n",
    "from sklearn.model_selection import train_test_split\n",
    "from sklearn.metrics import accuracy_score\n",
    "\n",
    "#pip install scikit-learn\n",
    "\n",
    "import pennylane as qml\n",
    "from pennylane.templates import AngleEmbedding, StronglyEntanglingLayers\n",
    "from pennylane.operation import Tensor\n",
    "\n",
    "import matplotlib.pyplot as plt\n",
    "\n",
    "np.random.seed(42)"
   ]
  },
  {
   "cell_type": "code",
   "execution_count": 7,
   "id": "3ab97c6a",
   "metadata": {},
   "outputs": [
    {
     "name": "stdout",
     "output_type": "stream",
     "text": [
      "Collecting scikit-learn\n",
      "  Downloading scikit_learn-1.2.1-cp310-cp310-win_amd64.whl (8.3 MB)\n",
      "     ---------------------------------------- 8.3/8.3 MB 19.4 kB/s eta 0:00:00\n",
      "Collecting threadpoolctl>=2.0.0\n",
      "  Downloading threadpoolctl-3.1.0-py3-none-any.whl (14 kB)\n",
      "Requirement already satisfied: numpy>=1.17.3 in c:\\programdata\\anaconda3\\envs\\tf\\lib\\site-packages (from scikit-learn) (1.23.5)\n",
      "Collecting joblib>=1.1.1\n",
      "  Downloading joblib-1.2.0-py3-none-any.whl (297 kB)\n",
      "     ------------------------------------- 298.0/298.0 kB 15.8 kB/s eta 0:00:00\n",
      "Requirement already satisfied: scipy>=1.3.2 in c:\\programdata\\anaconda3\\envs\\tf\\lib\\site-packages (from scikit-learn) (1.10.0)\n",
      "Installing collected packages: threadpoolctl, joblib, scikit-learn\n",
      "Successfully installed joblib-1.2.0 scikit-learn-1.2.1 threadpoolctl-3.1.0\n"
     ]
    },
    {
     "name": "stderr",
     "output_type": "stream",
     "text": [
      "WARNING: Ignoring invalid distribution -ip (c:\\programdata\\anaconda3\\envs\\tf\\lib\\site-packages)\n",
      "WARNING: Ignoring invalid distribution - (c:\\programdata\\anaconda3\\envs\\tf\\lib\\site-packages)\n",
      "WARNING: Ignoring invalid distribution -ip (c:\\programdata\\anaconda3\\envs\\tf\\lib\\site-packages)\n",
      "WARNING: Ignoring invalid distribution - (c:\\programdata\\anaconda3\\envs\\tf\\lib\\site-packages)\n",
      "WARNING: Ignoring invalid distribution -ip (c:\\programdata\\anaconda3\\envs\\tf\\lib\\site-packages)\n",
      "WARNING: Ignoring invalid distribution - (c:\\programdata\\anaconda3\\envs\\tf\\lib\\site-packages)\n",
      "WARNING: Ignoring invalid distribution -ip (c:\\programdata\\anaconda3\\envs\\tf\\lib\\site-packages)\n",
      "WARNING: Ignoring invalid distribution - (c:\\programdata\\anaconda3\\envs\\tf\\lib\\site-packages)\n",
      "WARNING: Ignoring invalid distribution -ip (c:\\programdata\\anaconda3\\envs\\tf\\lib\\site-packages)\n",
      "WARNING: Ignoring invalid distribution - (c:\\programdata\\anaconda3\\envs\\tf\\lib\\site-packages)\n",
      "WARNING: Ignoring invalid distribution -ip (c:\\programdata\\anaconda3\\envs\\tf\\lib\\site-packages)\n",
      "WARNING: Ignoring invalid distribution - (c:\\programdata\\anaconda3\\envs\\tf\\lib\\site-packages)\n",
      "WARNING: Ignoring invalid distribution -ip (c:\\programdata\\anaconda3\\envs\\tf\\lib\\site-packages)\n",
      "WARNING: Ignoring invalid distribution - (c:\\programdata\\anaconda3\\envs\\tf\\lib\\site-packages)\n",
      "WARNING: Ignoring invalid distribution -ip (c:\\programdata\\anaconda3\\envs\\tf\\lib\\site-packages)\n",
      "WARNING: Ignoring invalid distribution - (c:\\programdata\\anaconda3\\envs\\tf\\lib\\site-packages)\n",
      "WARNING: Ignoring invalid distribution -ip (c:\\programdata\\anaconda3\\envs\\tf\\lib\\site-packages)\n",
      "WARNING: Ignoring invalid distribution - (c:\\programdata\\anaconda3\\envs\\tf\\lib\\site-packages)\n",
      "\n",
      "[notice] A new release of pip is available: 23.0 -> 23.0.1\n",
      "[notice] To update, run: python.exe -m pip install --upgrade pip\n"
     ]
    }
   ],
   "source": [
    "!pip install scikit-learn"
   ]
  },
  {
   "cell_type": "code",
   "execution_count": 9,
   "id": "fced8f52",
   "metadata": {},
   "outputs": [],
   "source": [
    "X, y = load_iris(return_X_y=True)\n",
    "\n",
    "# pick inputs and labels from the first two classes only,\n",
    "# corresponding to the first 100 samples\n",
    "X = X[:100] #0: 0-49, 1:50-99, 2:100-149\n",
    "y = y[:100]\n",
    "\n",
    "# scaling the inputs is important since the embedding we use is periodic\n",
    "scaler = StandardScaler().fit(X)\n",
    "X_scaled = scaler.transform(X)\n",
    "\n",
    "# scaling the labels to -1, 1 is important for the SVM and the\n",
    "# definition of a hinge loss\n",
    "y_scaled = 2 * (y - 0.5)\n",
    "\n",
    "X_train, X_test, y_train, y_test = train_test_split(X_scaled, y_scaled)"
   ]
  },
  {
   "cell_type": "code",
   "execution_count": 10,
   "id": "d2e94497",
   "metadata": {},
   "outputs": [
    {
     "name": "stdout",
     "output_type": "stream",
     "text": [
      "[ 0.35866332  2.73124718 -0.94364311 -0.68644165]\n"
     ]
    },
    {
     "data": {
      "text/plain": [
       "4"
      ]
     },
     "execution_count": 10,
     "metadata": {},
     "output_type": "execute_result"
    }
   ],
   "source": [
    "n_qubits = len(X_train[0])\n",
    "print(X_train[0])\n",
    "n_qubits"
   ]
  },
  {
   "cell_type": "code",
   "execution_count": 11,
   "id": "ce2f5f42",
   "metadata": {},
   "outputs": [],
   "source": [
    "dev_kernel = qml.device(\"default.qubit\", wires=n_qubits)\n",
    "\n",
    "projector = np.zeros((2**n_qubits, 2**n_qubits))\n",
    "projector[0, 0] = 1 #M observable from our lecture\n",
    "\n",
    "@qml.qnode(dev_kernel)\n",
    "def kernel(x1, x2):\n",
    "    \"\"\"The quantum kernel.\"\"\"\n",
    "    AngleEmbedding(x1, wires=range(n_qubits))\n",
    "    qml.adjoint(AngleEmbedding)(x2, wires=range(n_qubits))\n",
    "    return qml.expval(qml.Hermitian(projector, wires=range(n_qubits)))"
   ]
  },
  {
   "cell_type": "code",
   "execution_count": 12,
   "id": "f76e1085",
   "metadata": {},
   "outputs": [
    {
     "data": {
      "text/plain": [
       "tensor(1., requires_grad=True)"
      ]
     },
     "execution_count": 12,
     "metadata": {},
     "output_type": "execute_result"
    }
   ],
   "source": [
    "kernel(X_train[0], X_train[0])"
   ]
  },
  {
   "cell_type": "code",
   "execution_count": 13,
   "id": "c752d37c",
   "metadata": {},
   "outputs": [],
   "source": [
    "def kernel_matrix(A, B):\n",
    "    \"\"\"Compute the matrix whose entries are the kernel\n",
    "       evaluated on pairwise data from sets A and B.\"\"\"\n",
    "    return np.array([[kernel(a, b) for b in B] for a in A])"
   ]
  },
  {
   "cell_type": "code",
   "execution_count": 14,
   "id": "05b47f60",
   "metadata": {},
   "outputs": [],
   "source": [
    "svm = SVC(kernel=kernel_matrix).fit(X_train, y_train)"
   ]
  },
  {
   "cell_type": "code",
   "execution_count": 15,
   "id": "4d33fd7f",
   "metadata": {},
   "outputs": [
    {
     "data": {
      "text/plain": [
       "1.0"
      ]
     },
     "execution_count": 15,
     "metadata": {},
     "output_type": "execute_result"
    }
   ],
   "source": [
    "predictionsTrain = svm.predict(X_train) #SVM that we trained, will predict result from X_train\n",
    "accuracy_score(predictionsTrain, y_train) #Compare SVM prediction with ACTUAL result, y_train"
   ]
  },
  {
   "cell_type": "code",
   "execution_count": 16,
   "id": "59d4a2fd",
   "metadata": {},
   "outputs": [
    {
     "data": {
      "text/plain": [
       "1.0"
      ]
     },
     "execution_count": 16,
     "metadata": {},
     "output_type": "execute_result"
    }
   ],
   "source": [
    "predictions = svm.predict(X_test) #Data SVM did not see, SVM will make prediction\n",
    "accuracy_score(predictions, y_test) #Result from New Prediction from ACTUAL result, y_train"
   ]
  },
  {
   "cell_type": "code",
   "execution_count": 17,
   "id": "b03748be",
   "metadata": {},
   "outputs": [],
   "source": [
    " import pennylane as qml\n",
    "from pennylane import numpy as np\n",
    "from pennylane.optimize import NesterovMomentumOptimizer, AdagradOptimizer, GradientDescentOptimizer, AdamOptimizer, MomentumOptimizer\n",
    "from pennylane.templates import AmplitudeEmbedding, AngleEmbedding\n",
    "from sklearn.datasets import load_iris\n",
    "from sklearn.model_selection import train_test_split\n",
    "import matplotlib.pyplot as plt\n",
    "import random"
   ]
  },
  {
   "cell_type": "code",
   "execution_count": 18,
   "id": "65729090",
   "metadata": {},
   "outputs": [
    {
     "name": "stdout",
     "output_type": "stream",
     "text": [
      "[5.1 3.5 1.4 0.2] 0\n"
     ]
    }
   ],
   "source": [
    "X, Y = load_iris(return_X_y=True)\n",
    "\n",
    "#Only First Hundred to Differentiate b/w 2 classes [0, 1], 100+ = more classes\n",
    "X = X[:100]\n",
    "Y = Y[:100]\n",
    "\n",
    "#Split and view data\n",
    "X_train, X_test, Y_train, Y_test = train_test_split(X, Y)\n",
    "print(X[0], Y[0])"
   ]
  },
  {
   "cell_type": "code",
   "execution_count": 19,
   "id": "c2c1007b",
   "metadata": {},
   "outputs": [],
   "source": [
    "def drawData(i, j):\n",
    "    plt.scatter(X[:, i][Y == 1], X[:, j][Y == 1], c=\"b\", marker=\"o\", edgecolors=\"k\")\n",
    "    plt.scatter(X[:, i][Y == 0], X[:, j][Y == 0], c=\"r\", marker=\"o\", edgecolors=\"k\")\n",
    "    plt.title(\"Original data: Property \" + str(i+1) + \" w/ Property \" + str(j+1))"
   ]
  },
  {
   "cell_type": "code",
   "execution_count": 20,
   "id": "c8dfdca3",
   "metadata": {},
   "outputs": [
    {
     "data": {
      "image/png": "[encoded data removed]",
      "text/plain": [
       "<Figure size 432x288 with 1 Axes>"
      ]
     },
     "metadata": {
      "needs_background": "light"
     },
     "output_type": "display_data"
    },
    {
     "data": {
      "image/png": "[encoded data removed]",
      "text/plain": [
       "<Figure size 432x288 with 1 Axes>"
      ]
     },
     "metadata": {
      "needs_background": "light"
     },
     "output_type": "display_data"
    },
    {
     "data": {
      "image/png": "[encoded data removed]",
      "text/plain": [
       "<Figure size 432x288 with 1 Axes>"
      ]
     },
     "metadata": {
      "needs_background": "light"
     },
     "output_type": "display_data"
    },
    {
     "data": {
      "image/png": "[encoded data removed]",
      "text/plain": [
       "<Figure size 432x288 with 1 Axes>"
      ]
     },
     "metadata": {
      "needs_background": "light"
     },
     "output_type": "display_data"
    },
    {
     "data": {
      "image/png": "[encoded data removed]",
      "text/plain": [
       "<Figure size 432x288 with 1 Axes>"
      ]
     },
     "metadata": {
      "needs_background": "light"
     },
     "output_type": "display_data"
    },
    {
     "data": {
      "image/png": "[encoded data removed]",
      "text/plain": [
       "<Figure size 432x288 with 1 Axes>"
      ]
     },
     "metadata": {
      "needs_background": "light"
     },
     "output_type": "display_data"
    }
   ],
   "source": [
    "for i in range(3):\n",
    "    for j in range(i+1, 4):\n",
    "        plt.figure()\n",
    "        drawData(i, j)\n",
    "        plt.show()"
   ]
  },
  {
   "cell_type": "code",
   "execution_count": 21,
   "id": "f07b6551",
   "metadata": {},
   "outputs": [],
   "source": [
    "n_qubits = 2\n",
    "dev = qml.device(\"default.qubit\", wires=n_qubits)"
   ]
  },
  {
   "cell_type": "code",
   "execution_count": 22,
   "id": "550f000e",
   "metadata": {},
   "outputs": [],
   "source": [
    "#Variational Ansatz\n",
    "def layer(W):\n",
    "    qml.adjoint(qml.QFT)(wires=[0, 1])\n",
    "    qml.Rot(W[0, 0], W[0, 1], W[0, 2], wires=0)\n",
    "    qml.Rot(W[1, 0], W[1, 1], W[1, 2], wires=1)\n",
    "    qml.CNOT(wires=[0, 1])\n",
    "    qml.QFT(wires=[0, 1])"
   ]
  },
  {
   "cell_type": "code",
   "execution_count": 23,
   "id": "13417df8",
   "metadata": {},
   "outputs": [],
   "source": [
    "@qml.qnode(dev)\n",
    "def circuit(weights, params):\n",
    "    #Try Angle Embedding w/ 4 Qubits\n",
    "    AmplitudeEmbedding(params, wires=range(n_qubits), normalize=True)\n",
    "    for W in weights:\n",
    "        layer(W)\n",
    "    return qml.expval(qml.PauliZ(0) @ qml.PauliZ(1))"
   ]
  },
  {
   "cell_type": "code",
   "execution_count": 24,
   "id": "7b04c658",
   "metadata": {},
   "outputs": [
    {
     "data": {
      "text/plain": [
       "tensor(0.29520923, requires_grad=True)"
      ]
     },
     "execution_count": 24,
     "metadata": {},
     "output_type": "execute_result"
    }
   ],
   "source": [
    "num_layers = 2 #more layers = more malleable to diverse/exotic data classification\n",
    "var_init = (0.01 * np.random.randn(num_layers, n_qubits, 3), 0.0)\n",
    "circuit(var_init[0], X[0]) #0 or 1"
   ]
  },
  {
   "cell_type": "code",
   "execution_count": 25,
   "id": "a7e2fda9",
   "metadata": {},
   "outputs": [
    {
     "name": "stdout",
     "output_type": "stream",
     "text": [
      "x        :  [5.1 3.5 1.4 0.2]\n",
      "angles   :  AmplitudeEmbedding(array([0.80377277+0.j, 0.55160877+0.j, 0.22064351+0.j, 0.0315205 +0.j]), wires=[0, 1])\n",
      "amp. vect:  [0.80380637 0.55181598 0.21882457 0.03831436]\n"
     ]
    }
   ],
   "source": [
    "print(\"x        : \", X[0])\n",
    "print(\"angles   : \", AmplitudeEmbedding(X[0], wires=range(n_qubits), normalize=True))\n",
    "print(\"amp. vect: \", np.real(dev.state))"
   ]
  },
  {
   "cell_type": "code",
   "execution_count": 26,
   "id": "b0e8710c",
   "metadata": {},
   "outputs": [],
   "source": [
    "def square_loss(labels, predictions):\n",
    "    loss = 0\n",
    "    for l, p in zip(labels, predictions):\n",
    "        loss = loss + (l - p) ** 2\n",
    "    loss = loss / len(labels)\n",
    "    return loss\n",
    "\n",
    "def accuracy(labels, predictions):\n",
    "    loss = 0\n",
    "    for l, p in zip(labels, predictions):\n",
    "        if abs(l - p) < 1e-5:\n",
    "            loss = loss + 1\n",
    "    loss = loss / len(labels)\n",
    "    return loss"
   ]
  },
  {
   "cell_type": "code",
   "execution_count": 27,
   "id": "9531e798",
   "metadata": {},
   "outputs": [],
   "source": [
    "def variational_classifier(var, params):\n",
    "    weights = var[0]\n",
    "    bias = var[1]\n",
    "    return circuit(weights, params) + bias\n",
    "\n",
    "\n",
    "def cost(weights, features, labels):\n",
    "    predictions = [variational_classifier(weights, f) for f in features]\n",
    "    return square_loss(labels, predictions)"
   ]
  },
  {
   "cell_type": "code",
   "execution_count": 28,
   "id": "8fa2a1f7",
   "metadata": {},
   "outputs": [],
   "source": [
    "np.random.seed(71)\n",
    "num_layers = 12\n",
    "var_init = (0.01 * np.random.randn(num_layers, n_qubits, 3), 0.0)"
   ]
  },
  {
   "cell_type": "code",
   "execution_count": 29,
   "id": "9896040a",
   "metadata": {},
   "outputs": [
    {
     "name": "stdout",
     "output_type": "stream",
     "text": [
      "\n",
      "Start: | Acc train: 0.5333333 | Threshold 0.00000\n",
      "Start: | Acc train: 0.5200000 | Threshold 0.05000\n",
      "Start: | Acc train: 0.5200000 | Threshold 0.10000\n",
      "Start: | Acc train: 0.5200000 | Threshold 0.15000\n",
      "Start: | Acc train: 0.4000000 | Threshold 0.20000\n",
      "Start: | Acc train: 0.2266667 | Threshold 0.25000\n",
      "Start: | Acc train: 0.1066667 | Threshold 0.30000\n",
      "Start: | Acc train: 0.0133333 | Threshold 0.35000\n",
      "Start: | Acc train: 0.0000000 | Threshold 0.40000\n",
      "Start: | Acc train: 0.0000000 | Threshold 0.45000\n",
      "\n"
     ]
    },
    {
     "name": "stderr",
     "output_type": "stream",
     "text": [
      "C:\\ProgramData\\Anaconda3\\envs\\tf\\lib\\site-packages\\pennylane\\_grad.py:107: UserWarning: Attempted to differentiate a function with no trainable parameters. If this is unintended, please add trainable parameters via the 'requires_grad' attribute or 'argnum' keyword.\n",
      "  warnings.warn(\n"
     ]
    },
    {
     "name": "stdout",
     "output_type": "stream",
     "text": [
      "Iter:     1 | Cost: 5.73969 | Acc train: 0.5333333 | Threshold 0.00000\n",
      "Iter:     5 | Cost: 1.79908 | Acc train: 0.5333333 | Threshold 0.00000\n",
      "Iter:    10 | Cost: 0.45021 | Acc train: 0.5333333 | Threshold 0.00000\n",
      "Iter:    15 | Cost: 5.35315 | Acc train: 0.5333333 | Threshold 0.00000\n",
      "Iter:    20 | Cost: 4.55661 | Acc train: 0.5333333 | Threshold 0.00000\n",
      "Iter:    25 | Cost: 1.57557 | Acc train: 0.5333333 | Threshold 0.00000\n",
      "Iter:    30 | Cost: 5.17116 | Acc train: 0.5333333 | Threshold 0.00000\n",
      "Iter:    35 | Cost: 3.13808 | Acc train: 0.5333333 | Threshold 0.00000\n",
      "Iter:    40 | Cost: 0.68769 | Acc train: 0.5333333 | Threshold 0.00000\n",
      "Iter:    45 | Cost: 3.33718 | Acc train: 0.5333333 | Threshold 0.00000\n",
      "Iter:    50 | Cost: 3.11854 | Acc train: 0.5333333 | Threshold 0.00000\n",
      "Iter:    55 | Cost: 1.68892 | Acc train: 0.5333333 | Threshold 0.00000\n",
      "Iter:    60 | Cost: 3.47720 | Acc train: 0.5333333 | Threshold 0.00000\n",
      "Iter:    65 | Cost: 5.49398 | Acc train: 0.5333333 | Threshold 0.00000\n",
      "Iter:    70 | Cost: 0.79923 | Acc train: 0.5333333 | Threshold 0.00000\n",
      "Iter:    75 | Cost: 4.10704 | Acc train: 0.5333333 | Threshold 0.00000\n",
      "Iter:    80 | Cost: 2.11804 | Acc train: 0.5333333 | Threshold 0.00000\n",
      "Iter:    85 | Cost: 4.27736 | Acc train: 0.5333333 | Threshold 0.00000\n",
      "Iter:    90 | Cost: 3.09413 | Acc train: 0.5333333 | Threshold 0.00000\n",
      "Iter:    95 | Cost: 3.39644 | Acc train: 0.5333333 | Threshold 0.00000\n",
      "Iter:   100 | Cost: 3.29638 | Acc train: 0.5333333 | Threshold 0.00000\n",
      "\n",
      "Results: | Acc train: 0.5333333 | Threshold 0.00000\n",
      "Results: | Acc train: 0.5200000 | Threshold 0.05000\n",
      "Results: | Acc train: 0.5200000 | Threshold 0.10000\n",
      "Results: | Acc train: 0.5200000 | Threshold 0.15000\n",
      "Results: | Acc train: 0.4000000 | Threshold 0.20000\n",
      "Results: | Acc train: 0.2266667 | Threshold 0.25000\n",
      "Results: | Acc train: 0.1066667 | Threshold 0.30000\n",
      "Results: | Acc train: 0.0133333 | Threshold 0.35000\n",
      "Results: | Acc train: 0.0000000 | Threshold 0.40000\n",
      "Results: | Acc train: 0.0000000 | Threshold 0.45000\n",
      "\n"
     ]
    }
   ],
   "source": [
    "opt = NesterovMomentumOptimizer(0.01) #Parameter Shift Rule, Gradient Descent\n",
    "batch_size = 5\n",
    "\n",
    "def signer(inp, threshold):\n",
    "    if inp >= 0.5 + threshold:\n",
    "        return 1\n",
    "    elif inp < 0.5 - threshold:\n",
    "        return 0\n",
    "    else:\n",
    "        return 0.5\n",
    "def predictor(f, threshold):\n",
    "    return signer(float(variational_classifier(var, f)), threshold)\n",
    "\n",
    "\n",
    "\n",
    "var = var_init\n",
    "threshold = 0\n",
    "def displayTest(current):\n",
    "    print(\"\")\n",
    "    for i in range(10):\n",
    "        threshold = i*0.05\n",
    "        predictions_train = [predictor(f, threshold) for f in X_train]\n",
    "        # Compute accuracy on train set\n",
    "        acc_train = accuracy(Y_train, predictions_train)\n",
    "        print(current + \": | Acc train: {:0.7f} | Threshold {:0.5f}\" \"\".format(acc_train, threshold))\n",
    "    print(\"\")\n",
    "displayTest(\"Start\")\n",
    "\n",
    "# train the variational classifier\n",
    "for it in range(101):\n",
    "    #Batch Training\n",
    "    # Update the weights by one optimizer step\n",
    "    batch_index = np.random.randint(0, len(X_train), (batch_size,))\n",
    "    X_train_batch = X_train[batch_index]\n",
    "    Y_train_batch = Y_train[batch_index]\n",
    "    var = opt.step(lambda v: cost(v, X_train_batch, Y_train_batch), var)\n",
    "\n",
    "    \n",
    "    if ((it + 1) % 5 == 0 or it == 0):\n",
    "        # Compute predictions on train set\n",
    "        predictions_train = [predictor(f, threshold) for f in X_train]\n",
    "        # Compute accuracy on train set\n",
    "        acc_train = accuracy(Y_train, predictions_train)\n",
    "        theacc = cost(var, X_train_batch, Y_train_batch)\n",
    "        print(\"Iter: {:5d} | Cost: {:0.5f} | Acc train: {:0.7f} | Threshold {:0.5f}\" \"\".format(it + 1, theacc*10, acc_train, threshold))\n",
    "        if (acc_train > 0.70):\n",
    "            if (threshold < 0.3):\n",
    "                threshold += 0.05\n",
    "            else:\n",
    "                threshold += 0.01\n",
    "            \n",
    "displayTest(\"Results\")\n",
    "        "
   ]
  },
  {
   "cell_type": "code",
   "execution_count": 30,
   "id": "bf8bf467",
   "metadata": {},
   "outputs": [],
   "source": [
    "#Number of Errors & Compare VQC to Actual\n",
    "for i in range(len(X)):\n",
    "    #if (predictor(X[i], 0.2) - Y[i] != 0):\n",
    "    #    print(i)\n",
    "    #print(signer(float(variational_classifier(var, X[i])), 0.25), \"\\t\", Y[i])\n",
    "    #print(float(variational_classifier(var, X[i]))*100, \"\\t\", Y[i])\n",
    "    pass"
   ]
  },
  {
   "cell_type": "code",
   "execution_count": 31,
   "id": "fca425f9",
   "metadata": {},
   "outputs": [],
   "source": [
    "def plotter(i, j, threshold):\n",
    "    plt.figure()\n",
    "    cm = plt.cm.RdBu\n",
    "    thecomputationTrain = np.array([predictor(i, threshold) for i in X_train])\n",
    "    thecomputationTest = np.array([predictor(i, threshold) for i in X_test])\n",
    "    # plot data\n",
    "    #Train Data - Certain Data\n",
    "    plt.scatter(\n",
    "        X_train[:, i][thecomputationTrain == 1],X_train[:, j][thecomputationTrain == 1],\n",
    "        c=\"b\",marker=\"o\",edgecolors=\"k\",label=\"class 1 train\",\n",
    "    )\n",
    "    plt.scatter(\n",
    "        X_train[:, i][thecomputationTrain == 0],X_train[:, j][thecomputationTrain == 0],\n",
    "        c=\"r\",marker=\"o\",edgecolors=\"k\",label=\"class 0 train\",\n",
    "    )\n",
    "    #Train Data - Uncertain Data\n",
    "    plt.scatter(\n",
    "        X_train[:, i][thecomputationTrain == 0.5],X_train[:, j][thecomputationTrain == 0.5],\n",
    "        c=\"y\",marker=\"o\",edgecolors=\"k\",label=\"class ? train\",\n",
    "    )\n",
    "    \n",
    "    #Test Data - Certain Data\n",
    "    plt.scatter(\n",
    "        X_test[:, i][thecomputationTest == 1],X_test[:, j][thecomputationTest == 1],\n",
    "        c=\"b\",marker=\"^\",edgecolors=\"k\",label=\"class 1 test\",\n",
    "    )\n",
    "    plt.scatter(\n",
    "        X_test[:, i][thecomputationTest == 0],X_test[:, j][thecomputationTest == 0],\n",
    "        c=\"r\",marker=\"^\",edgecolors=\"k\",label=\"class 0 test\",\n",
    "    )\n",
    "    #Test Data - Uncertain Data\n",
    "    plt.scatter(\n",
    "        X_test[:, i][thecomputationTest == 0.5],X_test[:, j][thecomputationTest == 0.5],\n",
    "        c=\"y\",marker=\"^\",edgecolors=\"k\",label=\"class ? test\",\n",
    "    )\n",
    "    \n",
    "    plt.legend()\n",
    "    return plt"
   ]
  },
  {
   "cell_type": "code",
   "execution_count": 32,
   "id": "bf4cdb6a",
   "metadata": {},
   "outputs": [
    {
     "data": {
      "image/png": "[encoded data removed]",
      "text/plain": [
       "<Figure size 432x288 with 1 Axes>"
      ]
     },
     "metadata": {
      "needs_background": "light"
     },
     "output_type": "display_data"
    },
    {
     "data": {
      "image/png": "[encoded data removed]",
      "text/plain": [
       "<Figure size 432x288 with 1 Axes>"
      ]
     },
     "metadata": {
      "needs_background": "light"
     },
     "output_type": "display_data"
    },
    {
     "data": {
      "image/png": "[encoded data removed]",
      "text/plain": [
       "<Figure size 432x288 with 1 Axes>"
      ]
     },
     "metadata": {
      "needs_background": "light"
     },
     "output_type": "display_data"
    },
    {
     "data": {
      "image/png": "[encoded data removed]",
      "text/plain": [
       "<Figure size 432x288 with 1 Axes>"
      ]
     },
     "metadata": {
      "needs_background": "light"
     },
     "output_type": "display_data"
    },
    {
     "data": {
      "image/png": "[encoded data removed]",
      "text/plain": [
       "<Figure size 432x288 with 1 Axes>"
      ]
     },
     "metadata": {
      "needs_background": "light"
     },
     "output_type": "display_data"
    },
    {
     "data": {
      "image/png": "[encoded data removed]",
      "text/plain": [
       "<Figure size 432x288 with 1 Axes>"
      ]
     },
     "metadata": {
      "needs_background": "light"
     },
     "output_type": "display_data"
    }
   ],
   "source": [
    "for i in range(3):\n",
    "    for j in range(i+1, 4):\n",
    "        plotter(i, j, 0.2) #x < 25 -> 0        x > 75 -> 1\n",
    "        #plotter(i, j, 0.35) #x < 15 -> 0        x > 85 -> 1\n",
    "        plt.show()"
   ]
  },
  {
   "cell_type": "code",
   "execution_count": 33,
   "id": "4adef4a4",
   "metadata": {},
   "outputs": [],
   "source": [
    "import pennylane as qml\n",
    "from pennylane import numpy as np\n",
    "from pennylane.templates import AmplitudeEmbedding, AngleEmbedding\n",
    "import matplotlib.pyplot as plt\n",
    "import random\n",
    "\n",
    "from sklearn.datasets import load_iris\n",
    "from sklearn.model_selection import train_test_split\n",
    "from sklearn.cluster import KMeans\n",
    "from mpl_toolkits.mplot3d import Axes3D\n",
    "\n",
    "\n",
    "import warnings\n",
    "warnings.filterwarnings('ignore')"
   ]
  },
  {
   "cell_type": "code",
   "execution_count": 34,
   "id": "32f44e12",
   "metadata": {},
   "outputs": [
    {
     "name": "stdout",
     "output_type": "stream",
     "text": [
      "[5.1 3.5 1.4 0.2] 0\n"
     ]
    }
   ],
   "source": [
    "X, Y = load_iris(return_X_y=True)\n",
    "\n",
    "#Split and view data\n",
    "X_train, X_test, Y_train, Y_test = train_test_split(X, Y)\n",
    "print(X[0], Y[0])"
   ]
  },
  {
   "cell_type": "code",
   "execution_count": 37,
   "id": "6b4824a9",
   "metadata": {},
   "outputs": [
    {
     "data": {
      "text/plain": [
       "<Figure size 576x432 with 0 Axes>"
      ]
     },
     "metadata": {},
     "output_type": "display_data"
    },
    {
     "data": {
      "text/plain": [
       "<Figure size 576x432 with 0 Axes>"
      ]
     },
     "metadata": {},
     "output_type": "display_data"
    },
    {
     "data": {
      "text/plain": [
       "<Figure size 576x432 with 0 Axes>"
      ]
     },
     "metadata": {},
     "output_type": "display_data"
    },
    {
     "data": {
      "text/plain": [
       "<Figure size 576x432 with 0 Axes>"
      ]
     },
     "metadata": {},
     "output_type": "display_data"
    }
   ],
   "source": [
    "X, y = load_iris(return_X_y=True)\n",
    "\n",
    "#Split and view data\n",
    "X_train, X_test, Y_train, Y_test = train_test_split(X, y)\n",
    "\n",
    "\n",
    "estimators = [('k_means_iris_8', KMeans(n_clusters=8)),\n",
    "              ('k_means_iris_3', KMeans(n_clusters=3)),\n",
    "              ('k_means_iris_bad_init', KMeans(n_clusters=3, n_init=1,\n",
    "                                               init='random'))]\n",
    "\n",
    "\n",
    "def addLabels():\n",
    "    ax.w_xaxis.set_ticklabels([])\n",
    "    ax.w_yaxis.set_ticklabels([])\n",
    "    ax.w_zaxis.set_ticklabels([])\n",
    "    ax.set_xlabel('Petal width')\n",
    "    ax.set_ylabel('Sepal length')\n",
    "    ax.set_zlabel('Petal length')\n",
    "\n",
    "fignum = 1\n",
    "titles = ['8 clusters', '3 clusters', '3 clusters, bad initialization']\n",
    "for name, est in estimators:\n",
    "    fig = plt.figure(fignum, figsize=(8, 6))\n",
    "    ax = Axes3D(fig, rect=[0, 0, .95, 1], elev=48, azim=134)\n",
    "    est.fit(X)\n",
    "    labels = est.labels_\n",
    "\n",
    "    ax.scatter(X[:, 3], X[:, 0], X[:, 2],\n",
    "               c=labels.astype(float), edgecolor='k', s=100)\n",
    "\n",
    "    addLabels()\n",
    "    ax.set_title(titles[fignum - 1])\n",
    "    ax.dist = 12\n",
    "    fignum = fignum + 1\n",
    "\n",
    "# Plot the ground truth\n",
    "fig = plt.figure(fignum, figsize=(8, 6))\n",
    "ax = Axes3D(fig, rect=[0, 0, .95, 1], elev=48, azim=134)\n",
    "\n",
    "for name, label in [('Setosa', 0),\n",
    "                    ('Versicolour', 1),\n",
    "                    ('Virginica', 2)]:\n",
    "    ax.text3D(X[y == label, 3].mean(),\n",
    "              X[y == label, 0].mean(),\n",
    "              X[y == label, 2].mean() + 2, name,\n",
    "              horizontalalignment='center',\n",
    "              bbox=dict(alpha=.2, edgecolor='w', facecolor='w'))\n",
    "# Reorder the labels to have colors matching the cluster results\n",
    "y = np.choose(y, [1, 2, 0]).astype(float)\n",
    "ax.scatter(X[:, 3], X[:, 0], X[:, 2], c=y, edgecolor='k', s=100)\n",
    "\n",
    "addLabels()\n",
    "ax.set_title('Ground Truth')\n",
    "ax.dist = 12\n",
    "\n",
    "fig.show()"
   ]
  },
  {
   "cell_type": "code",
   "execution_count": 38,
   "id": "f34629d9",
   "metadata": {},
   "outputs": [
    {
     "data": {
      "text/plain": [
       "<Figure size 288x216 with 0 Axes>"
      ]
     },
     "metadata": {},
     "output_type": "display_data"
    }
   ],
   "source": [
    "randPoint = [random.randint(0, 2500)/1000, random.randint(5000, 7000)/1000, random.randint(1000, 6000)/1000]\n",
    "\n",
    "fig = plt.figure(fignum, figsize=(4, 3))\n",
    "ax = Axes3D(fig, rect=[0, 0, .95, 1], elev=48, azim=134)\n",
    "means = []\n",
    "for name, label in [('Setosa', 0),('Versicolour', 1),('Virginica', 2)]:\n",
    "    means.append([X[Y == label, 3].mean(), X[Y == label, 0].mean(),X[Y == label, 2].mean()])\n",
    "    ax.scatter(*means[-1],edgecolor='k', s=100)\n",
    "    ax.text3D(X[y == label, 3].mean(),X[y == label, 0].mean(),\n",
    "              X[y == label, 2].mean()+0.25, name,\n",
    "              horizontalalignment='center',\n",
    "              bbox=dict(alpha=.2, edgecolor='w', facecolor='w'))\n",
    "ax.scatter(*randPoint, edgecolor='k', s=250)\n",
    "addLabels()"
   ]
  },
  {
   "cell_type": "code",
   "execution_count": 39,
   "id": "17a01a04",
   "metadata": {},
   "outputs": [
    {
     "data": {
      "text/plain": [
       "'\\n -Answer Below (NO CHEATING!)- \\n'"
      ]
     },
     "execution_count": 39,
     "metadata": {},
     "output_type": "execute_result"
    }
   ],
   "source": [
    "\"\"\"\n",
    "1. Embed New Point into Qubits\n",
    "2. Embed a Mean Point into Qubits\n",
    "3. Classify New Point based on results\n",
    "\n",
    "Hint 1: Multiple CSWAP's, 1 ancilla\n",
    "Hint 2: Which result represents closeness?\n",
    "\"\"\"\n",
    "\n",
    "n_qubits = 7 #can be more or less\n",
    "dev = qml.device(\"default.qubit\", wires=n_qubits)\n",
    "@qml.qnode(dev)\n",
    "def SwapTest(params):\n",
    "    #Quantum Embedding\n",
    "    pass\n",
    "    return qml.expval(qml.PauliZ(0))\n",
    "results = []\n",
    "classes = ['Setosa','Versicolour','Virginica']\n",
    "for i in range(len(means)):\n",
    "    params = [means[i], randPoint]\n",
    "    results.append(SwapTest(params))\n",
    "\n",
    "#Print Data\n",
    "locus = 0#results.index(max(results))\n",
    "\n",
    "\n",
    "\"\"\"\n",
    " -Answer Below (NO CHEATING!)- \n",
    "\"\"\""
   ]
  },
  {
   "cell_type": "code",
   "execution_count": 40,
   "id": "37986e12",
   "metadata": {},
   "outputs": [
    {
     "name": "stdout",
     "output_type": "stream",
     "text": [
      "Random Point: [0.095, 6.344, 1.915]\n",
      "Result 0: 0.5809925791672532\n",
      "Result 1: 0.09616573327159528\n",
      "Result 2: 0.019174211942670216\n",
      "Actual Distance: 0: 1.4206526669105297 | [0.24599999999999997, 5.006, 1.4620000000000002]\n",
      "Actual Distance: 1: 2.6797108052922423 | [1.3259999999999998, 5.936, 4.26]\n",
      "Actual Distance: 2: 4.125053454199109 | [2.0260000000000002, 6.587999999999998, 5.5520000000000005]\n",
      "This point is classified in class 0 which corresponds to Setosa\n"
     ]
    }
   ],
   "source": [
    "\"\"\"\n",
    "1. Embed New Point into Qubits\n",
    "2. Embed a Mean Point into Qubits\n",
    "3. Classify New Point based on results\n",
    "\n",
    "Hint 1: Multiple CSWAP's\n",
    "Hint 2: Which result represents closeness?\n",
    "\"\"\"\n",
    "n_qubits = 7\n",
    "dev = qml.device(\"default.qubit\", wires=n_qubits)\n",
    "@qml.qnode(dev)\n",
    "def SwapTest(params):\n",
    "    qml.Hadamard(wires=0)\n",
    "    AngleEmbedding(params[0], wires=[1, 2, 3])\n",
    "    AngleEmbedding(params[1], wires=[4, 5, 6])\n",
    "    qml.CSWAP(wires=[0, 1, 4])\n",
    "    qml.CSWAP(wires=[0, 2, 5])\n",
    "    qml.CSWAP(wires=[0, 3, 6])\n",
    "    qml.Hadamard(wires=0)\n",
    "    return qml.expval(qml.PauliZ(0))\n",
    "results = []\n",
    "classes = ['Setosa','Versicolour','Virginica']\n",
    "for i in range(len(means)):\n",
    "    params = [means[i], randPoint]\n",
    "    results.append( SwapTest(params))\n",
    "\n",
    "#Print Data\n",
    "locus = results.index(max(results))\n",
    "print(\"Random Point: \" + str(randPoint))\n",
    "for i in range(len(results)):\n",
    "    print(\"Result \" + str(i) + \": \" + str(results[i]))\n",
    "for i in range(len(means)):\n",
    "    dist = sum((p-q)**2 for p, q in zip(means[i], randPoint)) ** .5\n",
    "    print(\"Actual Distance: \" + str(i) + \": \" + str(dist) + \" | \" + str(means[i]))\n",
    "print(\"This point is classified in class \" + str(locus) + \" which corresponds to \" + classes[locus])\n",
    "\n"
   ]
  },
  {
   "cell_type": "code",
   "execution_count": 2,
   "id": "9acb42b6",
   "metadata": {},
   "outputs": [
    {
     "name": "stdout",
     "output_type": "stream",
     "text": [
      "Requirement already satisfied: PennyLane in c:\\programdata\\anaconda3\\envs\\tf\\lib\\site-packages (0.28.0)\n",
      "Requirement already satisfied: semantic-version>=2.7 in c:\\programdata\\anaconda3\\envs\\tf\\lib\\site-packages (from PennyLane) (2.10.0)\n",
      "Requirement already satisfied: appdirs in c:\\programdata\\anaconda3\\envs\\tf\\lib\\site-packages (from PennyLane) (1.4.4)\n",
      "Requirement already satisfied: scipy in c:\\programdata\\anaconda3\\envs\\tf\\lib\\site-packages (from PennyLane) (1.10.0)\n",
      "Requirement already satisfied: autoray>=0.3.1 in c:\\programdata\\anaconda3\\envs\\tf\\lib\\site-packages (from PennyLane) (0.6.0)\n",
      "Requirement already satisfied: toml in c:\\programdata\\anaconda3\\envs\\tf\\lib\\site-packages (from PennyLane) (0.10.2)\n",
      "Requirement already satisfied: requests in c:\\programdata\\anaconda3\\envs\\tf\\lib\\site-packages (from PennyLane) (2.28.1)\n",
      "Requirement already satisfied: autograd in c:\\programdata\\anaconda3\\envs\\tf\\lib\\site-packages (from PennyLane) (1.5)\n",
      "Requirement already satisfied: numpy<1.24 in c:\\programdata\\anaconda3\\envs\\tf\\lib\\site-packages (from PennyLane) (1.23.5)\n",
      "Requirement already satisfied: networkx in c:\\programdata\\anaconda3\\envs\\tf\\lib\\site-packages (from PennyLane) (3.0)\n",
      "Requirement already satisfied: pennylane-lightning>=0.28 in c:\\programdata\\anaconda3\\envs\\tf\\lib\\site-packages (from PennyLane) (0.28.2)\n",
      "Requirement already satisfied: cachetools in c:\\programdata\\anaconda3\\envs\\tf\\lib\\site-packages (from PennyLane) (4.2.2)\n",
      "Requirement already satisfied: retworkx in c:\\programdata\\anaconda3\\envs\\tf\\lib\\site-packages (from PennyLane) (0.12.1)\n",
      "Requirement already satisfied: ninja in c:\\programdata\\anaconda3\\envs\\tf\\lib\\site-packages (from pennylane-lightning>=0.28->PennyLane) (1.11.1)\n",
      "Requirement already satisfied: future>=0.15.2 in c:\\programdata\\anaconda3\\envs\\tf\\lib\\site-packages (from autograd->PennyLane) (0.18.3)\n",
      "Requirement already satisfied: certifi>=2017.4.17 in c:\\programdata\\anaconda3\\envs\\tf\\lib\\site-packages (from requests->PennyLane) (2022.12.7)\n",
      "Requirement already satisfied: idna<4,>=2.5 in c:\\programdata\\anaconda3\\envs\\tf\\lib\\site-packages (from requests->PennyLane) (3.3)\n",
      "Requirement already satisfied: charset-normalizer<3,>=2 in c:\\programdata\\anaconda3\\envs\\tf\\lib\\site-packages (from requests->PennyLane) (2.0.4)\n",
      "Requirement already satisfied: urllib3<1.27,>=1.21.1 in c:\\programdata\\anaconda3\\envs\\tf\\lib\\site-packages (from requests->PennyLane) (1.26.11)\n",
      "Requirement already satisfied: rustworkx==0.12.1 in c:\\programdata\\anaconda3\\envs\\tf\\lib\\site-packages (from retworkx->PennyLane) (0.12.1)\n"
     ]
    },
    {
     "name": "stderr",
     "output_type": "stream",
     "text": [
      "WARNING: Ignoring invalid distribution -ip (c:\\programdata\\anaconda3\\envs\\tf\\lib\\site-packages)\n",
      "WARNING: Ignoring invalid distribution - (c:\\programdata\\anaconda3\\envs\\tf\\lib\\site-packages)\n",
      "WARNING: Ignoring invalid distribution -ip (c:\\programdata\\anaconda3\\envs\\tf\\lib\\site-packages)\n",
      "WARNING: Ignoring invalid distribution - (c:\\programdata\\anaconda3\\envs\\tf\\lib\\site-packages)\n",
      "WARNING: Ignoring invalid distribution -ip (c:\\programdata\\anaconda3\\envs\\tf\\lib\\site-packages)\n",
      "WARNING: Ignoring invalid distribution - (c:\\programdata\\anaconda3\\envs\\tf\\lib\\site-packages)\n",
      "WARNING: Ignoring invalid distribution -ip (c:\\programdata\\anaconda3\\envs\\tf\\lib\\site-packages)\n",
      "WARNING: Ignoring invalid distribution - (c:\\programdata\\anaconda3\\envs\\tf\\lib\\site-packages)\n",
      "WARNING: Ignoring invalid distribution -ip (c:\\programdata\\anaconda3\\envs\\tf\\lib\\site-packages)\n",
      "WARNING: Ignoring invalid distribution - (c:\\programdata\\anaconda3\\envs\\tf\\lib\\site-packages)\n",
      "WARNING: Ignoring invalid distribution -ip (c:\\programdata\\anaconda3\\envs\\tf\\lib\\site-packages)\n",
      "WARNING: Ignoring invalid distribution - (c:\\programdata\\anaconda3\\envs\\tf\\lib\\site-packages)\n",
      "\n",
      "[notice] A new release of pip is available: 23.0 -> 23.0.1\n",
      "[notice] To update, run: python.exe -m pip install --upgrade pip\n"
     ]
    }
   ],
   "source": [
    "!pip install PennyLane --upgrade"
   ]
  },
  {
   "cell_type": "code",
   "execution_count": 9,
   "id": "dadb97fb",
   "metadata": {},
   "outputs": [
    {
     "name": "stdout",
     "output_type": "stream",
     "text": [
      "Requirement already satisfied: pip in c:\\programdata\\anaconda3\\envs\\tf\\lib\\site-packages (23.0)\n",
      "Collecting pip\n",
      "  Using cached pip-23.0.1-py3-none-any.whl (2.1 MB)\n"
     ]
    },
    {
     "name": "stderr",
     "output_type": "stream",
     "text": [
      "WARNING: Ignoring invalid distribution -ip (c:\\programdata\\anaconda3\\envs\\tf\\lib\\site-packages)\n",
      "WARNING: Ignoring invalid distribution - (c:\\programdata\\anaconda3\\envs\\tf\\lib\\site-packages)\n",
      "WARNING: Ignoring invalid distribution -ip (c:\\programdata\\anaconda3\\envs\\tf\\lib\\site-packages)\n",
      "WARNING: Ignoring invalid distribution - (c:\\programdata\\anaconda3\\envs\\tf\\lib\\site-packages)\n",
      "ERROR: To modify pip, please run the following command:\n",
      "C:\\ProgramData\\Anaconda3\\envs\\tf\\python.exe -m pip install --upgrade pip\n",
      "WARNING: Ignoring invalid distribution -ip (c:\\programdata\\anaconda3\\envs\\tf\\lib\\site-packages)\n",
      "WARNING: Ignoring invalid distribution - (c:\\programdata\\anaconda3\\envs\\tf\\lib\\site-packages)\n",
      "WARNING: Ignoring invalid distribution -ip (c:\\programdata\\anaconda3\\envs\\tf\\lib\\site-packages)\n",
      "WARNING: Ignoring invalid distribution - (c:\\programdata\\anaconda3\\envs\\tf\\lib\\site-packages)\n",
      "WARNING: Ignoring invalid distribution -ip (c:\\programdata\\anaconda3\\envs\\tf\\lib\\site-packages)\n",
      "WARNING: Ignoring invalid distribution - (c:\\programdata\\anaconda3\\envs\\tf\\lib\\site-packages)\n",
      "\n",
      "[notice] A new release of pip is available: 23.0 -> 23.0.1\n",
      "[notice] To update, run: python.exe -m pip install --upgrade pip\n"
     ]
    }
   ],
   "source": [
    "!pip install --upgrade pip"
   ]
  },
  {
   "cell_type": "code",
   "execution_count": 10,
   "id": "ea078969",
   "metadata": {},
   "outputs": [
    {
     "ename": "ModuleNotFoundError",
     "evalue": "No module named 'PennyLane'",
     "output_type": "error",
     "traceback": [
      "\u001b[1;31m---------------------------------------------------------------------------\u001b[0m",
      "\u001b[1;31mModuleNotFoundError\u001b[0m                       Traceback (most recent call last)",
      "Cell \u001b[1;32mIn[10], line 1\u001b[0m\n\u001b[1;32m----> 1\u001b[0m \u001b[38;5;28;01mimport\u001b[39;00m \u001b[38;5;21;01mPennyLane\u001b[39;00m \u001b[38;5;28;01mas\u001b[39;00m \u001b[38;5;21;01mqml\u001b[39;00m\n",
      "\u001b[1;31mModuleNotFoundError\u001b[0m: No module named 'PennyLane'"
     ]
    }
   ],
   "source": [
    "import PennyLane as qml"
   ]
  },
  {
   "cell_type": "code",
   "execution_count": null,
   "id": "b352a84a",
   "metadata": {},
   "outputs": [],
   "source": []
  },
  {
   "cell_type": "code",
   "execution_count": 4,
   "id": "42034bd0",
   "metadata": {},
   "outputs": [],
   "source": [
    "from tensorflow import keras"
   ]
  },
  {
   "cell_type": "code",
   "execution_count": 5,
   "id": "7cca7fda",
   "metadata": {},
   "outputs": [],
   "source": [
    "import numpy as np"
   ]
  },
  {
   "cell_type": "code",
   "execution_count": 6,
   "id": "d507971a",
   "metadata": {},
   "outputs": [
    {
     "ename": "ModuleNotFoundError",
     "evalue": "No module named 'pennylane'",
     "output_type": "error",
     "traceback": [
      "\u001b[1;31m---------------------------------------------------------------------------\u001b[0m",
      "\u001b[1;31mModuleNotFoundError\u001b[0m                       Traceback (most recent call last)",
      "Cell \u001b[1;32mIn[6], line 1\u001b[0m\n\u001b[1;32m----> 1\u001b[0m \u001b[38;5;28;01mfrom\u001b[39;00m \u001b[38;5;21;01mpennylane\u001b[39;00m\u001b[38;5;21;01m.\u001b[39;00m\u001b[38;5;21;01mtemplates\u001b[39;00m \u001b[38;5;28;01mimport\u001b[39;00m AmplitudeEmbedding, AngleEmbedding, RandomLayers\n",
      "\u001b[1;31mModuleNotFoundError\u001b[0m: No module named 'pennylane'"
     ]
    }
   ],
   "source": [
    "from pennylane.templates import AmplitudeEmbedding, AngleEmbedding, RandomLayers"
   ]
  },
  {
   "cell_type": "code",
   "execution_count": null,
   "id": "10013cc7",
   "metadata": {},
   "outputs": [],
   "source": []
  }
 ],
 "metadata": {
  "kernelspec": {
   "display_name": "tfod",
   "language": "python",
   "name": "tfod"
  },
  "language_info": {
   "codemirror_mode": {
    "name": "ipython",
    "version": 3
   },
   "file_extension": ".py",
   "mimetype": "text/x-python",
   "name": "python",
   "nbconvert_exporter": "python",
   "pygments_lexer": "ipython3",
   "version": "3.8.5"
  }
 },
 "nbformat": 4,
 "nbformat_minor": 5
}
